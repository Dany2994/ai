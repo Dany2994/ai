      "cell_type": "markdown",
      "source": [
        "#Red Neuronal basica"
      ],
      "metadata": {
        "id": "Q7BCw9sxPqYq"
      }
    },
    {
      "cell_type": "markdown",
      "source": [
        "### Tensorflow y Numpy"
      ],
      "metadata": {
        "id": "78BqEOHbPwbF"
      }
    },
    {
      "cell_type": "code",
      "source": [
        "import tensorflow as tf\n",
        "import numpy as np"
      ],
      "metadata": {
        "id": "EHWa9VV48yKH"
      },
      "execution_count": 68,
      "outputs": []
    },
    {
      "cell_type": "markdown",
      "source": [
        "### Datos de entrada para entrenamiento\n"
      ],
      "metadata": {
        "id": "flNibh6fP2bh"
      }
    },
    {
      "cell_type": "code",
      "source": [
        "celsius = np.array([-40, -10, 0, 8, 15, 22, 38], dtype=float)\n",
        "fahrenheit = np.array([-40, 14, 32, 46, 59, 72, 100], dtype=float)"
      ],
      "metadata": {
        "id": "jizZj2Ts9BZ1"
      },
      "execution_count": 72,
      "outputs": []
    },
    {
      "cell_type": "markdown",
      "source": [
        "### Capas densas usando el framework Keras"
      ],
      "metadata": {
        "id": "_lqdM0ieNeeo"
      }
    },
    {
      "cell_type": "code",
      "source": [
        "#capa = tf.keras.layers.Dense(units=1, input_shape=[1])\n",
        "#modelo = tf.keras.Sequential([capa])\n",
        "\n",
        "oculta1 = tf.keras.layers.Dense(units=3, input_shape=[1])\n",
        "oculta2 = tf.keras.layers.Dense(units=3)\n",
        "salida = tf.keras.layers.Dense(units=1)\n",
        "modelo = tf.keras.Sequential([oculta1, oculta2, salida])"
      ],
      "metadata": {
        "id": "h08cJjcE-axM",
        "outputId": "feb9f1d1-b4ed-43de-c53a-aa76ccca246d",
        "colab": {
          "base_uri": "https://localhost:8080/"
        }
      },
      "execution_count": 82,
      "outputs": [
        {
          "output_type": "stream",
          "name": "stderr",
          "text": [
            "/usr/local/lib/python3.10/dist-packages/keras/src/layers/core/dense.py:87: UserWarning: Do not pass an `input_shape`/`input_dim` argument to a layer. When using Sequential models, prefer using an `Input(shape)` object as the first layer in the model instead.\n",
            "  super().__init__(activity_regularizer=activity_regularizer, **kwargs)\n"
          ]
        }
      ]
    },
    {
      "cell_type": "markdown",
      "source": [
        "### Compilando el modelo y función de pérdida\n",
        "  "
      ],
      "metadata": {
        "id": "y4Mg95QfRfzH"
      }
    },
    {
      "cell_type": "code",
      "source": [
        "modelo.compile(\n",
        "    #Optimizador y Taza de aprendizaje\n",
        "    optimizer=tf.keras.optimizers.Adam(0.1),\n",
        "    #Taza de error\n",
        "    loss = \"mean_squared_error\"\n",
        ")"
      ],
      "metadata": {
        "id": "0Q3pxgET-W5N"
      },
      "execution_count": 84,
      "outputs": []
    },
    {
      "cell_type": "markdown",
      "source": [
        "### Entrenado de modelo y Cíclos"
      ],
      "metadata": {
        "id": "w-YZGE8uSwjF"
      }
    },
    {
      "cell_type": "code",
      "source": [
        "print(\"Entrenando...\")\n",
        "historial = modelo.fit(celsius, fahrenheit, epochs=200, verbose = False)\n",
        "print(\"Entrenado!\")"
      ],
      "metadata": {
        "id": "W8mefNfgAF1O",
        "outputId": "b5d36576-99c6-4ff2-bd24-c4a7158c41a4",
        "colab": {
          "base_uri": "https://localhost:8080/"
        }
      },
      "execution_count": 85,
      "outputs": [
        {
          "output_type": "stream",
          "name": "stdout",
          "text": [
            "Entrenando...\n",
            "Entrenado!\n"
          ]
        }
      ]
    },
    {
      "cell_type": "markdown",
      "source": [
        "### Gráfico para ver el desempeño"
      ],
      "metadata": {
        "id": "rhYgw9tvTFAI"
      }
    },
    {
      "cell_type": "code",
      "source": [
        "import matplotlib.pyplot as plt\n",
        "plt.xlabel(\"# EPOCA\")\n",
        "plt.ylabel(\"Magnitud de perdida\")\n",
        "plt.plot(historial.history[\"loss\"])\n"
      ],
      "metadata": {
        "id": "k6O6bKYmC8ix",
        "outputId": "42639307-d0e8-4512-c108-90e5fc315b98",
        "colab": {
          "base_uri": "https://localhost:8080/",
          "height": 466
        }
      },
      "execution_count": 86,
      "outputs": [
        {
          "output_type": "execute_result",
          "data": {
            "text/plain": [
              "[<matplotlib.lines.Line2D at 0x7b89dcf68220>]"
            ]
          },
          "metadata": {},
          "execution_count": 86
        },
        {
          "output_type": "display_data",
          "data": {
            "text/plain": [
              "<Figure size 640x480 with 1 Axes>"
            ],
            "image/png": "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\n"
          },
          "metadata": {}
        }
      ]
    },
    {
      "cell_type": "markdown",
      "source": [
        "Podemos apreciar qque desde el ciclo 75, el modelo realmeente no aprende mucho mas, asi que podriamos inferir que 100 ciclos en el parámetro ***epochs*** es suficiente, reduciendo en teoría a la mitad del tiempo de entrenamiento."
      ],
      "metadata": {
        "id": "y2YcTvgxTitJ"
      }
    },
    {
      "cell_type": "code",
      "source": [
        "print('Hagamos una predicción')\n",
        "resultado = modelo.predict(np.array([[200.0]]))\n",
        "print(f\"El resultado es: {resultado[0][0]}\", \"F\")"
      ],
      "metadata": {
        "id": "RE6dzVS3FNRN",
        "outputId": "fe3e3e8f-de6e-4c44-c8f4-7360ae5d2d33",
        "colab": {
          "base_uri": "https://localhost:8080/"
        }
      },
      "execution_count": 79,
      "outputs": [
        {
          "output_type": "stream",
          "name": "stdout",
          "text": [
            "Hagamos una predicción\n",
            "\u001b[1m1/1\u001b[0m \u001b[32m━━━━━━━━━━━━━━━━━━━━\u001b[0m\u001b[37m\u001b[0m \u001b[1m0s\u001b[0m 18ms/step\n",
            "El resultado es: 391.5423583984375 F\n"
          ]
        }
      ]
    },
    {
      "cell_type": "markdown",
      "source": [
        "### Imprimir el peso que le asigno el modelo a cada conexion entre capa y capa"
      ],
      "metadata": {
        "id": "NA6zWPDcTNqe"
      }
    },
    {
      "cell_type": "code",
      "source": [
        "print(\"Variables internas del modelo (3 capas, 2 ocultas, 1 salida)\")\n",
        "print(oculta1.get_weights())\n",
        "print(oculta2.get_weights())\n",
        "print(salida.get_weights())"
      ],
      "metadata": {
        "id": "6SGY7B8mMoNy",
        "outputId": "e7f03daf-e38a-42ac-b3e1-29dafe87cd39",
        "colab": {
          "base_uri": "https://localhost:8080/"
        }
      },
      "execution_count": 81,
      "outputs": [
        {
          "output_type": "stream",
          "name": "stdout",
          "text": [
            "Variables internas del modelo (3 capas, 2 ocultas, 1 salida)\n",
            "[array([[-0.6260653 , -0.15994956,  0.07237866]], dtype=float32), array([-3.1570733,  2.5352798,  2.4670048], dtype=float32)]\n",
            "[array([[ 0.9603657 ,  1.2323282 ,  0.08835261],\n",
            "       [ 0.19465473, -1.0202532 , -0.25200057],\n",
            "       [-0.2915291 , -0.26939994, -1.1516433 ]], dtype=float32), array([-3.0013335, -3.0937548, -2.5701463], dtype=float32)]\n",
            "[array([[-1.1964817],\n",
            "       [-1.4561217],\n",
            "       [-1.0356742]], dtype=float32), array([3.0047092], dtype=float32)]\n"
          ]
        }
      ]
    }
  ],
  "metadata": {
    "colab": {
      "name": "Welcome To Colab",
      "provenance": [],
      "include_colab_link": true
    },
    "kernelspec": {
      "display_name": "Python 3",
      "name": "python3"
    }
  },
  "nbformat": 4,
  "nbformat_minor": 0
}
